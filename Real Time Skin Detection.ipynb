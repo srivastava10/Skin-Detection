{
 "cells": [
  {
   "cell_type": "markdown",
   "id": "f5b5dc31",
   "metadata": {},
   "source": [
    "# Low Light Condition - Skin Detection with Open CV"
   ]
  },
  {
   "cell_type": "code",
   "execution_count": 1,
   "id": "1c2af590",
   "metadata": {},
   "outputs": [],
   "source": [
    "import cv2\n",
    "import numpy as np\n",
    "import math\n",
    "import datetime\n",
    "import time"
   ]
  },
  {
   "cell_type": "code",
   "execution_count": 58,
   "id": "bd48711e",
   "metadata": {},
   "outputs": [],
   "source": [
    "vid = cv2.VideoCapture(0)\n",
    "while True:\n",
    "    b,frame = vid.read()\n",
    "    frame = cv2.flip(frame,1)\n",
    "    \n",
    "    hsv = cv2.cvtColor(frame,cv2.COLOR_BGR2HSV)\n",
    "    l_r = np.array([0,48,80],dtype=\"uint8\")\n",
    "    u_r = np.array([20,255,255],dtype=\"uint8\")\n",
    "    skin = cv2.inRange(hsv,l_r,u_r)\n",
    "    kernel = (11,11)\n",
    "    skin = cv2.erode(skin,kernel,iterations=2)\n",
    "    skin = cv2.dilate(skin,kernel,iterations=2)\n",
    "    \n",
    "    skin = cv2.medianBlur(skin,7)\n",
    "    \n",
    "    if cv2.waitKey(1) & 0xFF==ord('q'):\n",
    "        cv2.destroyAllWindows()\n",
    "        break\n",
    "    \n",
    "       \n",
    "    cv2.imshow(\"Video\",skin)\n"
   ]
  },
  
 ],
 "metadata": {
  "kernelspec": {
   "display_name": "Python 3",
   "language": "python",
   "name": "python3"
  },
  "language_info": {
   "codemirror_mode": {
    "name": "ipython",
    "version": 3
   },
   "file_extension": ".py",
   "mimetype": "text/x-python",
   "name": "python",
   "nbconvert_exporter": "python",
   "pygments_lexer": "ipython3",
   "version": "3.9.2"
  }
 },
 "nbformat": 4,
 "nbformat_minor": 5
}
